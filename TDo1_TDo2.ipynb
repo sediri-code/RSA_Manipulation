{
  "nbformat": 4,
  "nbformat_minor": 0,
  "metadata": {
    "colab": {
      "provenance": [],
      "toc_visible": true
    },
    "kernelspec": {
      "name": "python3",
      "display_name": "Python 3"
    },
    "language_info": {
      "name": "python"
    }
  },
  "cells": [
    {
      "cell_type": "markdown",
      "source": [
        "# 1. Prerequisites\n"
      ],
      "metadata": {
        "id": "fY7RRFgP-18m"
      }
    },
    {
      "cell_type": "code",
      "execution_count": null,
      "metadata": {
        "id": "XCZ2CXxv9zhZ"
      },
      "outputs": [],
      "source": [
        "p = 17136853248687850037\n",
        "q = 10477288835220524183\n",
        "c = 7184974664682578630800427321265676001"
      ]
    },
    {
      "cell_type": "code",
      "source": [
        "import sys\n",
        "size_in_bytes = sys.getsizeof(p)\n",
        "size_in_bits = size_in_bytes * 8\n",
        "\n",
        "print(f\"Size of {p}: {size_in_bits} bits\")\n"
      ],
      "metadata": {
        "colab": {
          "base_uri": "https://localhost:8080/"
        },
        "id": "6N6kONx7-Kw8",
        "outputId": "3901cb49-b113-4f6a-c258-d75ccd561636"
      },
      "execution_count": null,
      "outputs": [
        {
          "output_type": "stream",
          "name": "stdout",
          "text": [
            "Size of 17136853248687850037: 288 bits\n"
          ]
        }
      ]
    },
    {
      "cell_type": "code",
      "source": [
        "size_in_bytes = sys.getsizeof(q)\n",
        "size_in_bits = size_in_bytes * 8\n",
        "\n",
        "print(f\"Size of {q}: {size_in_bits} bits\")"
      ],
      "metadata": {
        "colab": {
          "base_uri": "https://localhost:8080/"
        },
        "id": "Pc_VgMyx-gCs",
        "outputId": "b4e57aad-dfc4-4cee-bcd2-9fc1bafd7806"
      },
      "execution_count": null,
      "outputs": [
        {
          "output_type": "stream",
          "name": "stdout",
          "text": [
            "Size of 10477288835220524183: 288 bits\n"
          ]
        }
      ]
    },
    {
      "cell_type": "code",
      "source": [
        "size_in_bytes = sys.getsizeof(c)\n",
        "size_in_bits = size_in_bytes * 8\n",
        "\n",
        "print(f\"Size of {c}: {size_in_bits} bits\")"
      ],
      "metadata": {
        "colab": {
          "base_uri": "https://localhost:8080/"
        },
        "id": "d0avEjgm-q4r",
        "outputId": "138cbde8-067f-4bca-a2cb-2ecb72b56a85"
      },
      "execution_count": null,
      "outputs": [
        {
          "output_type": "stream",
          "name": "stdout",
          "text": [
            "Size of 7184974664682578630800427321265676001: 352 bits\n"
          ]
        }
      ]
    },
    {
      "cell_type": "code",
      "source": [
        "import math \n",
        "e=65537\n",
        "n=p*q\n",
        "# declaration de d\n",
        "x = (p - 1) * (q - 1)\n",
        "d = math.pow(e,-1) % x \n",
        "#declaration de m\n",
        "m = math.pow(e,d) % n\n",
        "\n"
      ],
      "metadata": {
        "id": "OHMWQezn_GJc"
      },
      "execution_count": null,
      "outputs": []
    },
    {
      "cell_type": "code",
      "source": [
        "size_in_bytes = sys.getsizeof(d)\n",
        "size_in_bits = size_in_bytes * 8\n",
        "\n",
        "print(f\"Size of {d}: {size_in_bits} bits\")"
      ],
      "metadata": {
        "colab": {
          "base_uri": "https://localhost:8080/"
        },
        "id": "fWHrsQyAFvEf",
        "outputId": "d63578bf-4e8d-4e4e-91d3-ca06058aaba4"
      },
      "execution_count": null,
      "outputs": [
        {
          "output_type": "stream",
          "name": "stdout",
          "text": [
            "Size of 1.5258556235409006e-05: 192 bits\n"
          ]
        }
      ]
    },
    {
      "cell_type": "code",
      "source": [
        "size_in_bytes = sys.getsizeof(n)\n",
        "size_in_bits = size_in_bytes * 8\n",
        "\n",
        "print(f\"Size of {n}: {size_in_bits} bits\")"
      ],
      "metadata": {
        "colab": {
          "base_uri": "https://localhost:8080/"
        },
        "id": "i2wYWePwF6Iz",
        "outputId": "5bf21e1d-9d78-46c9-cbaa-0f5df9ac62b2"
      },
      "execution_count": null,
      "outputs": [
        {
          "output_type": "stream",
          "name": "stdout",
          "text": [
            "Size of 179547761213289780154672220846435944771: 352 bits\n"
          ]
        }
      ]
    },
    {
      "cell_type": "code",
      "source": [
        "size_in_bytes = sys.getsizeof(m)\n",
        "size_in_bits = size_in_bytes * 8\n",
        "\n",
        "print(f\"Size of {m}: {size_in_bits} bits\")"
      ],
      "metadata": {
        "colab": {
          "base_uri": "https://localhost:8080/"
        },
        "id": "rcuBQu3OF6Wo",
        "outputId": "6c114366-b36f-48d8-bd1e-9bc1b93dacc0"
      },
      "execution_count": null,
      "outputs": [
        {
          "output_type": "stream",
          "name": "stdout",
          "text": [
            "Size of 1.0001692373555948: 192 bits\n"
          ]
        }
      ]
    },
    {
      "cell_type": "code",
      "source": [
        "variable = m\n",
        "variable_type = type(variable)\n",
        "print(f\"The type of {variable} is {variable_type}\")"
      ],
      "metadata": {
        "colab": {
          "base_uri": "https://localhost:8080/"
        },
        "id": "SrQFNSX1GQdq",
        "outputId": "6e4cb28e-22e0-4df2-8078-a7b095d65bdf"
      },
      "execution_count": null,
      "outputs": [
        {
          "output_type": "stream",
          "name": "stdout",
          "text": [
            "The type of 1.0001692373555948 is <class 'float'>\n"
          ]
        }
      ]
    },
    {
      "cell_type": "code",
      "source": [
        "print(f\"The value of the variable is {m}\")"
      ],
      "metadata": {
        "colab": {
          "base_uri": "https://localhost:8080/"
        },
        "id": "asB7GGVeG4c1",
        "outputId": "e260eff7-688d-455a-f0e4-a2a50d8b5a76"
      },
      "execution_count": null,
      "outputs": [
        {
          "output_type": "stream",
          "name": "stdout",
          "text": [
            "The value of the variable is 1.0001692373555948\n"
          ]
        }
      ]
    },
    {
      "cell_type": "code",
      "source": [
        "#converting from bits to bytes\n",
        "bytes = m / 8\n",
        "print(f\"{m} bits is equal to {bytes} bytes\")"
      ],
      "metadata": {
        "colab": {
          "base_uri": "https://localhost:8080/"
        },
        "id": "i0BvUtUQHOzb",
        "outputId": "f36bd855-d790-4b9b-87a6-147d5e9c2b65"
      },
      "execution_count": null,
      "outputs": [
        {
          "output_type": "stream",
          "name": "stdout",
          "text": [
            "1.0001692373555948 bits is equal to 0.12502115466944935 bytes\n"
          ]
        }
      ]
    },
    {
      "cell_type": "markdown",
      "source": [
        "#  2. RSA algorithm\n",
        "2.1 RSA encryption and signature implementations\n"
      ],
      "metadata": {
        "id": "uvoUC_GcHt7W"
      }
    },
    {
      "cell_type": "code",
      "source": [
        "#RSA key generation"
      ],
      "metadata": {
        "id": "YLI1kmHOTR4r"
      },
      "execution_count": null,
      "outputs": []
    },
    {
      "cell_type": "code",
      "source": [
        "#RSA private exponent generation\n"
      ],
      "metadata": {
        "id": "h7vRU-pdTVBm"
      },
      "execution_count": null,
      "outputs": []
    },
    {
      "cell_type": "code",
      "source": [
        "#RSA encryption"
      ],
      "metadata": {
        "id": "MCtYm_UOTaQZ"
      },
      "execution_count": null,
      "outputs": []
    },
    {
      "cell_type": "code",
      "source": [
        "#RSA decryption"
      ],
      "metadata": {
        "id": "-BbV-6xcTcwL"
      },
      "execution_count": null,
      "outputs": []
    },
    {
      "cell_type": "code",
      "source": [
        "#RSA signature generation"
      ],
      "metadata": {
        "id": "gYpOfbUATf_M"
      },
      "execution_count": null,
      "outputs": []
    },
    {
      "cell_type": "code",
      "source": [
        "#RSA signature verification"
      ],
      "metadata": {
        "id": "4G0qWOwdTjq5"
      },
      "execution_count": null,
      "outputs": []
    },
    {
      "cell_type": "markdown",
      "source": [
        "2.2 Encryption Implimentation test"
      ],
      "metadata": {
        "id": "GyS5K6EyTmYR"
      }
    },
    {
      "cell_type": "markdown",
      "source": [
        "2.3 Signature Implimentation test"
      ],
      "metadata": {
        "id": "Bx78D6lbTt1k"
      }
    },
    {
      "cell_type": "markdown",
      "source": [
        "# 3. Attacks on RSA algorithms "
      ],
      "metadata": {
        "id": "nDb7bvE7T0sc"
      }
    },
    {
      "cell_type": "markdown",
      "source": [
        "3.1 Close Primes attack\n"
      ],
      "metadata": {
        "id": "jPM7tt7NT79_"
      }
    },
    {
      "cell_type": "markdown",
      "source": [
        "3.2 Cube root attack\n"
      ],
      "metadata": {
        "id": "JQEwVubrT-Xp"
      }
    }
  ]
}